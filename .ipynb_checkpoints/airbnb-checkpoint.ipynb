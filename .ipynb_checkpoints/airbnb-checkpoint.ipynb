{
 "cells": [
  {
   "cell_type": "code",
   "execution_count": 19,
   "metadata": {},
   "outputs": [],
   "source": [
    "import pandas as pd\n",
    "import numpy as np\n",
    "import matplotlib.pyplot as plt\n",
    "\n",
    "import nltk\n",
    "from nltk.corpus import stopwords\n",
    "from nltk.tokenize import WhitespaceTokenizer\n",
    "from nltk.stem import PorterStemmer\n",
    "from nltk.stem import WordNetLemmatizer\n",
    "from sklearn.feature_extraction.text import CountVectorizer\n",
    "from sklearn.feature_extraction.text import TfidfVectorizer\n",
    "from langdetect import detect\n",
    "import emoji\n",
    "from translate import Translator\n",
    "\n",
    "ps = PorterStemmer()\n",
    "# Get reviews dataframe\n",
    "reviews = pd.read_csv('reviews.csv')\n",
    "# Create new dataframe with only the columns we need\n",
    "reviews = reviews[['listing_id', 'comments', 'reviewer_name']]\n",
    "# Remove stop words from reviews\n",
    "stop_words = set(stopwords.words('english'))\n",
    "\n",
    "# Print the first three reviews\n",
    "parsedReviews = []\n",
    "listing_ids = []\n",
    "reviews_amount = []\n",
    "listing_counter =[]\n",
    "i = 0\n",
    "step_size = 1\n",
    "\n",
    "for review in reviews['comments'][0:243150:step_size]:\n",
    "    # Skip if review is float\n",
    "    if type(review) == float:\n",
    "        i+=step_size\n",
    "        continue\n",
    "    # Skip reviews that are too short and review is string\n",
    "    if len(review) < 10:\n",
    "        i+=step_size\n",
    "        continue\n",
    "    # Detect language of review\n",
    "    lang = 'en'\n",
    "    if(review.isalpha()):\n",
    "        lang = detect(review)\n",
    "    # Translate review to english if it is not already in english\n",
    "    if lang != 'en':\n",
    "        translator = Translator(from_lang=lang, to_lang='en')\n",
    "        # print(review)\n",
    "        # print('-----------------')\n",
    "        # Split the review into sentences\n",
    "        sentences = review.split('.')\n",
    "        # Translate each sentence\n",
    "        for i in range(len(sentences)):\n",
    "            sentences[i] = translator.translate(sentences[i])\n",
    "        # Join the sentences back together\n",
    "        review = '. '.join(sentences)\n",
    "        # print(review)\n",
    "        # print('-----------------')\n",
    "    # Replace all emojis with their description\n",
    "    review = emoji.demojize(review)\n",
    "    # Replace all :s and _s with spaces\n",
    "    review = review.replace(':', ' ')\n",
    "    review = review.replace('_', ' ')\n",
    "    # Tokenize the review\n",
    "    review = WhitespaceTokenizer().tokenize(review)\n",
    "    # Remove stop words, capitalisation and punctuation from the review\n",
    "    filtered = [w for w in review if not w in stop_words]\n",
    "    filtered = [w.lower() for w in filtered]\n",
    "    filtered = [w for w in filtered if w.isalpha()]\n",
    "    filtered = [w for w in filtered if len(w)>3]\n",
    "    # Remove numbers from the review\n",
    "    filtered = [w for w in filtered if not w.isdigit()]\n",
    "    # Stem words in the review\n",
    "    stemmed = [ps.stem(w) for w in filtered]\n",
    "    # print(stemmed)\n",
    "    # Make each review a string\n",
    "    stemmed = ' '.join(stemmed)\n",
    "\n",
    "    # Determine the listing id of the review\n",
    "    listing_id = reviews['listing_id'][i]\n",
    "    i+=step_size\n",
    "    \n",
    "    # If the id is not already in the list, add it\n",
    "    if listing_id not in listing_ids:\n",
    "        listing_ids.append(listing_id)\n",
    "        parsedReviews.append(stemmed)\n",
    "    # If the id is already in the list, append the review to the existing review\n",
    "    else:\n",
    "        index = listing_ids.index(listing_id)\n",
    "        parsedReviews[index] += ' ' + stemmed\n",
    "\n",
    "# Create tfidf matrix for first five reviews\n",
    "tfidf = TfidfVectorizer()\n",
    "tfidf_matrix = tfidf.fit_transform(parsedReviews)\n",
    "# print(tfidf.get_feature_names_out())\n",
    "# print(tfidf_matrix.toarray()[0])\n",
    "# print(parsedReviews[0])\n",
    "\n",
    "# Create tfidf matrix for individual ids\n",
    "# tfidf = TfidfVectorizer()\n",
    "# tfidf_matrix = tfidf.fit_transform(parsedReviews)\n",
    "# print(tfidf_matrix.toarray()[0])\n",
    "# print(tfidf_matrix.toarray()[1])"
   ]
  },
  {
   "cell_type": "code",
   "execution_count": 20,
   "metadata": {},
   "outputs": [
    {
     "name": "stdout",
     "output_type": "stream",
     "text": [
      "[44077, 302634, 1797712, 374792, 386860, 1804494, 393631, 1896821, 85156, 419987, 1906221, 424596, 159889, 1929739, 1943366, 1963074, 162809, 165828, 426326, 165829, 178860, 427077, 2026810, 181823, 237465, 2069629, 2084913, 2121887, 245903, 2162973, 292757, 2164444, 2165074, 2283713, 302554, 2355991, 3026802, 3031518, 2372993, 3042183, 3042237, 3048852, 2385640, 2394893, 427495, 2415104, 3076665, 449556, 2427857, 454183, 468082, 2466169, 2471794, 3088332, 3096382, 2481147, 2489550, 497136, 3110929, 522667, 3137058, 3180314, 3188621, 3221575, 3226975, 3253976, 526767, 3260995, 3273876, 3281268, 3333378, 3356956, 3388678, 3389175, 587218, 3394094, 3424579, 3430811, 2514537, 2574203, 3441888, 3441994, 3474511, 592840, 610233, 637185, 2607040, 2610590, 2614726, 2620389, 2635493, 2642164, 641880, 3482676, 3576358, 3579644, 2647405, 654589, 2671586, 2685349, 3581384, 3581655, 2686112, 2691951, 2703497, 2719863, 2734096, 2754860, 690119, 2760521, 2770813, 2778697, 726011, 2791857, 726075, 736751, 3592153, 2795703, 736827, 742656, 2832333, 2842414, 2842486, 3604420, 3604440, 3622736, 743772, 3634410, 747284, 2850155, 2862881, 3643131, 2873250, 2874272, 3698469, 871174, 2885736, 2891101, 3708033, 3723817, 3725793, 3737322, 3740535, 3741414, 3741699, 3747675, 3749697, 3767317, 2903645, 3770752, 872539, 2923471, 2985355, 922425, 3009793, 3012532, 928970, 3991589, 929816, 3789686, 939866, 4075119, 4080295, 4092157, 4093174, 3797186, 3801472, 3811548, 3818337, 946923, 990212, 3841286, 4095938, 990300, 3851295, 3856095, 3868060, 3879473, 998407, 4108004, 4160003, 4177992, 3882631, 999963, 1073487, 4208603, 3899828, 1076634, 3922631, 3951360, 1086416, 3965249, 4255534, 4261174, 4282658, 1173029, 4294854, 5123315, 4296435, 4302167, 5140160, 4313897, 4317345, 4328664, 4337495, 1184087, 1207950, 5140379, 4368210, 4378260, 1255270, 1270261, 1276002, 4382103, 4391824, 4394037, 4403308, 1296492, 4423190, 5152543, 4435614, 1341478, 5162413, 4446134, 1364560, 5166238, 4446326, 5166950, 4479658, 4492472, 1407832, 4585502, 1411019, 4604580, 1421993, 4630635, 4637734, 4665890, 1447994, 1466234, 4713441, 4728250, 1488124, 1501767, 4755440, 4770798, 4776516, 4804987, 4821901, 4857684, 1518845, 5198526, 4872877, 1520036, 4940924, 4945419, 1556554, 4963289, 1559929, 1582908, 1600779, 1717912, 4965606, 4981330, 1729959, 5833366, 5835782, 5000537, 5857412, 5019767, 5871701, 5886395, 5887020, 5887717, 5045518, 5207710, 5056234, 5091879, 5891844, 5893248, 5092240, 5218203, 5257024, 5893921, 5092800, 5914901, 5103919, 5122717, 5929711, 5931030, 5931145, 6484506, 6494825, 5273761, 5939399, 5946473, 5986332, 5295002, 5295329, 5988881, 5300081, 6001756, 6014140, 6027743, 6509140, 6511695, 6525248, 6525773, 6526063, 6530735, 6531116, 6566265, 6568588, 6580137, 6060977, 6065352, 6090253, 6091960, 6097160, 5300721, 5314113, 6111087, 6111384, 5337567, 6119495, 6602165, 6127298, 6149285, 6153865, 6620588, 6630854, 6631138, 6637187, 5369640, 5370743, 6164649, 6164856, 6179782, 6237072, 5373819, 6241997, 5431304, 6255482, 6266903, 5436906, 5437940, 5438280, 6651135, 5441663, 5452665, 6655655, 5458089, 6271602, 6283612, 6286228, 6656507, 6657851, 6666524, 6677566, 5472279, 5478988, 5496959, 5505799, 5522457, 5549787, 6677678, 6289736, 6290081, 6294418, 6681883, 6691473, 5570464, 6705101, 5570664, 5570901, 6710681, 5579919, 5580328, 6718806, 6739022, 6743129, 6756249, 6761015, 6765402, 5586252, 5605620, 5605805, 5616591, 5617786, 5624357, 6770636, 6778919, 6781323, 5640675, 5656305, 6797599, 6803316, 6309046, 6347315, 6348110, 6811302, 6816938, 6360951, 6361100, 6817067, 6834535, 6368959, 6385487, 5664563, 6394075, 5671611, 6396228, 5688459, 5696906, 5706548, 5710121, 6835763, 6839796, 5729324, 6406867, 5740595, 5746728, 5754964, 5760168, 5789915, 6850333, 5790359, 6936928, 6860535, 6937541, 6937850, 6938725, 6944587, 6951899, 6867338, 6953188, 6881382, 6882121, 6895847, 6423196, 6964134, 6432589, 6450986, 6964763, 6450993, 6966196, 6988799, 6988823, 6991430, 6455564, 6456408, 6457068, 6896840, 6897771, 6900334, 6905248, 6914056, 6458595, 6465408, 6929078, 7418150, 7419724, 6466331, 7450614, 6478098, 6478206, 7855080, 7450650, 7856689, 7862573, 7863252, 7878322, 7015349, 7032060, 7881171, 7882182, 7064136, 7064551, 7071476, 7892233, 7092187, 7092752, 7112941, 7121459, 7914345, 7132062, 7921756, 7929311, 7946909, 7948611, 8000922, 8003265, 8011178, 7455315, 7472894, 7476727, 7514961, 7521525, 8019732, 7524194, 7525262, 7527861, 8040999, 8080563, 7155088, 7167116, 7531892, 7170257, 7185702, 7193740, 7197690, 7542897, 7202481, 7203213, 7210651, 8088575, 8095360, 7546933, 8097974, 8110645, 8111927, 8137470, 7552182, 7552924, 8156378, 8189259, 7214457, 7223692, 8196103, 7241004, 7256198, 7268410, 7269130, 7554718, 7561671, 7562223, 7269423, 7569253, 7572502, 7581366, 7586899, 7299362, 7299730, 7323991, 8216655, 8224514, 7590197, 8250941, 8255660, 8266542, 8286998, 7595241, 7600386, 7600405, 7609058, 7609686, 7619391, 7624035, 7625212, 7326924, 7626133, 7630788, 7328652, 8292221, 7631467, 8292546, 8308211, 7636508, 7642454, 7642809, 7646488, 8310664, 7660443, 7673096, 7344109, 7683106, 8347728, 7346103, 8352687, 7353069, 7691466, 7692164, 7355856, 7361592, 7375861, 7380009, 8367825, 7380547, 8377038, 7695793, 7708290, 7380796, 7721413, 7380947, 7721603, 7737502, 7385383, 7400449, 7401319, 8380582, 7412084, 7412897, 7413610, 8381004, 8381293, 7740402, 8546527, 8550046, 8381482, 8559817, 7743645, 7768793, 7772306, 7781066, 8571353, 8608235]\n"
     ]
    }
   ],
   "source": [
    "# print(tfidf.get_feature_names_out())\n",
    "# print(tfidf_matrix.toarray()[0])\n",
    "print(listing_ids)\n",
    "# print(parsedReviews)"
   ]
  },
  {
   "cell_type": "code",
   "execution_count": 232,
   "metadata": {},
   "outputs": [],
   "source": [
    "# Feature Engineering\n",
    "\n",
    "# Read listings.csv into a dataframe\n",
    "listings = pd.read_csv('listings.csv')\n",
    "# Create new dataframe with only id and description columns\n",
    "listings = listings[['id', 'description', 'host_since', 'longitude','latitude', 'host_about', 'host_response_time', 'host_response_rate', 'host_is_superhost', 'host_neighbourhood', 'host_listings_count', 'host_total_listings_count', 'host_verifications', 'host_has_profile_pic', 'host_identity_verified', 'neighbourhood_cleansed', 'property_type', 'accommodates','bathrooms_text', 'bedrooms', 'beds', 'amenities', 'price','availability_365',  'number_of_reviews', 'number_of_reviews_ltm', 'number_of_reviews_l30d', 'minimum_nights', 'first_review', 'last_review', 'review_scores_rating', 'review_scores_accuracy', 'review_scores_cleanliness', 'review_scores_checkin', 'review_scores_communication', 'review_scores_location', 'review_scores_value', 'instant_bookable', 'calculated_host_listings_count', 'calculated_host_listings_count_entire_homes', 'calculated_host_listings_count_private_rooms', 'calculated_host_listings_count_shared_rooms', 'reviews_per_month']]\n",
    "\n",
    "# Feature engineering \n",
    "stop_words = set(stopwords.words('english'))\n",
    "# print(listing_ids)\n",
    "\n",
    "# Get the data for the listings that have reviews\n",
    "listings = listings[listings['id'].isin(listing_ids)]\n",
    "\n",
    "# Parse the host description\n",
    "parsedDescriptions = []\n",
    "for description in listings['description']:\n",
    "    # Skip if description is float\n",
    "    if type(description) != str:\n",
    "        parsedDescriptions.append('')\n",
    "        continue\n",
    "    # Skip reviews that are too short and review is string\n",
    "    if len(description) < 10:\n",
    "        continue\n",
    "    # Detect language of review\n",
    "    lang = 'en'\n",
    "    if(description.isalpha()):\n",
    "        lang = detect(description)\n",
    "    # Translate description to english if it is not already in english\n",
    "    if lang != 'en':\n",
    "        translator = Translator(from_lang=lang, to_lang='en')\n",
    "        # print(description)\n",
    "        # print('-----------------')\n",
    "        # Split the description into sentences\n",
    "        sentences = description.split('.')\n",
    "        # Translate each sentence\n",
    "        for i in range(len(sentences)):\n",
    "            sentences[i] = translator.translate(sentences[i])\n",
    "        # Join the sentences back together\n",
    "        description = '. '.join(sentences)\n",
    "        # print(description)\n",
    "        # print('-----------------')\n",
    "    # Replace all emojis with their description\n",
    "    description = emoji.demojize(description)\n",
    "    # Replace all :s and _s with spaces\n",
    "    description = description.replace(':', ' ')\n",
    "    description = description.replace('_', ' ')\n",
    "    # Tokenize the description\n",
    "    description = WhitespaceTokenizer().tokenize(description)\n",
    "    # Remove stop words, capitalisation and punctuation from the description\n",
    "    filtered = [w for w in description if not w in stop_words]\n",
    "    filtered = [w.lower() for w in filtered]\n",
    "    filtered = [w for w in filtered if w.isalpha()]\n",
    "    filtered = [w for w in filtered if len(w)>3]\n",
    "    # Remove numbers from the description\n",
    "    filtered = [w for w in filtered if not w.isdigit()]\n",
    "    # Stem words in the description\n",
    "    stemmed = [ps.stem(w) for w in filtered]\n",
    "    # print(stemmed)\n",
    "    # Make each description a string\n",
    "    stemmed = ' '.join(stemmed)\n",
    "    parsedDescriptions.append(stemmed)\n",
    "\n",
    "# Parse the host about\n",
    "parsedAbouts = []\n",
    "for about in listings['host_about']:\n",
    "    # Skip abouts which are not strings\n",
    "    if type(about) != str:\n",
    "        parsedAbouts.append('')\n",
    "        continue\n",
    "    # Skip reviews that are too short and review is string\n",
    "    if len(about) < 10:\n",
    "        parsedAbouts.append('')\n",
    "        continue\n",
    "    # Detect language of review\n",
    "    lang = 'en'\n",
    "    if(about.isalpha()):\n",
    "        lang = detect(about)\n",
    "    # Translate about to english if it is not already in english\n",
    "    if lang != 'en':\n",
    "        translator = Translator(from_lang=lang, to_lang='en')\n",
    "        # print(about)\n",
    "        # print('-----------------')\n",
    "        # Split the about into sentences\n",
    "        sentences = about.split('.')\n",
    "        # Translate each sentence\n",
    "        for i in range(len(sentences)):\n",
    "            sentences[i] = translator.translate(sentences[i])\n",
    "        # Join the sentences back together\n",
    "        about = '. '.join(sentences)\n",
    "        # print(about)\n",
    "        # print('-----------------')\n",
    "    # Replace all emojis with their description\n",
    "    about = emoji.demojize(about)\n",
    "    # Replace all :s and _s with spaces\n",
    "    about = about.replace(':', ' ')\n",
    "    about = about.replace('_', ' ')\n",
    "    # Tokenize the about\n",
    "    about = WhitespaceTokenizer().tokenize(about)\n",
    "    # Remove stop words, capitalisation and punctuation from the about\n",
    "    filtered = [w for w in about if not w in stop_words]\n",
    "    filtered = [w.lower() for w in filtered]\n",
    "    filtered = [w for w in filtered if w.isalpha()]\n",
    "    filtered = [w for w in filtered if len(w)>3]\n",
    "    # Remove numbers from the about\n",
    "    filtered = [w for w in filtered if not w.isdigit()]\n",
    "    # Stem words in the about\n",
    "    stemmed = [ps.stem(w) for w in filtered]\n",
    "    # print(stemmed)\n",
    "    # Make each about a string\n",
    "    stemmed = ' '.join(stemmed)\n",
    "    parsedAbouts.append(stemmed)\n",
    "\n",
    "# Tfidf matric for descriptions and abouts\n",
    "tfidf = TfidfVectorizer()\n",
    "tfidf_matrix1 = tfidf.fit_transform(parsedDescriptions)\n",
    "tfidf_matrix2 = tfidf.fit_transform(parsedAbouts)\n",
    "\n"
   ]
  },
  {
   "cell_type": "code",
   "execution_count": 234,
   "metadata": {},
   "outputs": [
    {
     "name": "stdout",
     "output_type": "stream",
     "text": [
      "0      1.435456\n",
      "1      1.435456\n",
      "2      1.368552\n",
      "3      1.340282\n",
      "4      1.311699\n",
      "         ...   \n",
      "702    1.018954\n",
      "703    0.828607\n",
      "704    0.827664\n",
      "706    0.845254\n",
      "708    0.826722\n",
      "Name: host_since, Length: 616, dtype: float64\n"
     ]
    }
   ],
   "source": [
    "# Host since\n",
    "# Convert host_since to number of weeks\n",
    "listings['host_since'] = pd.to_datetime(listings['host_since'])\n",
    "# Convert value to host_since_weeks\n",
    "host_since = (np.datetime64('2022-12-12 00:00:00') - listings['host_since']).dt.days/7\n",
    "# Divide each value by the average number of weeks\n",
    "host_since = host_since/host_since.mean()\n",
    "# Replace any Nan values with the mean\n",
    "host_since = host_since.fillna(host_since.mean())\n",
    "# Print the first five rows of host_since_weeks\n",
    "print(host_since)"
   ]
  },
  {
   "cell_type": "code",
   "execution_count": 235,
   "metadata": {},
   "outputs": [
    {
     "name": "stdout",
     "output_type": "stream",
     "text": [
      "0      0.250000\n",
      "1      0.250000\n",
      "2      0.250000\n",
      "3      0.250000\n",
      "4      0.250000\n",
      "         ...   \n",
      "702    0.416667\n",
      "703    0.250000\n",
      "704    0.500000\n",
      "706    0.416667\n",
      "708    0.250000\n",
      "Name: host_response_time, Length: 616, dtype: float64\n"
     ]
    }
   ],
   "source": [
    "#Host response time\n",
    "# Convert host_response_time to a numerical value\n",
    "response_time = listings['host_response_time'].map({'within an hour': 0.25, 'within a few hours': 0.5, 'within a day': 0.75, 'a few days or more': 1})\n",
    "# Replace NaN values with the mean\n",
    "response_time = response_time.fillna(response_time.mean())\n",
    "print(response_time)\n",
    "\n"
   ]
  },
  {
   "cell_type": "code",
   "execution_count": 236,
   "metadata": {},
   "outputs": [
    {
     "name": "stdout",
     "output_type": "stream",
     "text": [
      "0      1.000000\n",
      "1      1.000000\n",
      "2      1.000000\n",
      "3      0.920000\n",
      "4      1.000000\n",
      "         ...   \n",
      "702    0.954444\n",
      "703    1.000000\n",
      "704    1.000000\n",
      "706    0.954444\n",
      "708    1.000000\n",
      "Name: host_response_rate, Length: 616, dtype: float64\n"
     ]
    }
   ],
   "source": [
    "# Host response rate\n",
    "# Convert host_response_rate to a numerical value\n",
    "listings['host_response_rate'] = listings['host_response_rate'].str.replace('%', '')\n",
    "response_rate = listings['host_response_rate'].astype(float) /100\n",
    "# Convert NaN values to 0\n",
    "response_rate = response_rate.fillna(response_rate.mean())\n",
    "print(response_rate)\n"
   ]
  },
  {
   "cell_type": "code",
   "execution_count": 237,
   "metadata": {},
   "outputs": [
    {
     "name": "stdout",
     "output_type": "stream",
     "text": [
      "0      1\n",
      "1      1\n",
      "2      0\n",
      "3      1\n",
      "4      0\n",
      "      ..\n",
      "702    0\n",
      "703    0\n",
      "704    1\n",
      "706    0\n",
      "708    1\n",
      "Name: host_is_superhost, Length: 616, dtype: int64\n"
     ]
    }
   ],
   "source": [
    "#Superhost\n",
    "# Convert host_is_superhost to a numerical value\n",
    "superhost = listings['host_is_superhost'].map({'t': 1, 'f': 0})\n",
    "print(superhost)"
   ]
  },
  {
   "cell_type": "code",
   "execution_count": 238,
   "metadata": {},
   "outputs": [
    {
     "name": "stdout",
     "output_type": "stream",
     "text": [
      "0      1.000815\n",
      "1      1.000547\n",
      "2      0.997225\n",
      "3      0.990254\n",
      "4      1.011324\n",
      "         ...   \n",
      "702    0.984410\n",
      "703    0.998193\n",
      "704    1.019919\n",
      "706    0.997524\n",
      "708    0.995803\n",
      "Name: longitude, Length: 616, dtype: float64\n",
      "0      0.998969\n",
      "1      0.998975\n",
      "2      1.000816\n",
      "3      0.998810\n",
      "4      0.999825\n",
      "         ...   \n",
      "702    1.002044\n",
      "703    0.999856\n",
      "704    1.000932\n",
      "706    0.999774\n",
      "708    0.999862\n",
      "Name: latitude, Length: 616, dtype: float64\n"
     ]
    }
   ],
   "source": [
    "# Convert host longitute to a numerical value\n",
    "host_long = listings['longitude']\n",
    "# Divide each value by the average longitude\n",
    "host_long = listings['longitude']/listings['longitude'].mean()\n",
    "print(host_long)\n",
    "# Convert host longitute to a numerical value\n",
    "host_lat = listings['latitude']\n",
    "# Divide each value by the average latitude\n",
    "host_lat = listings['latitude']/listings['latitude'].mean()\n",
    "print(host_lat)"
   ]
  },
  {
   "cell_type": "code",
   "execution_count": 239,
   "metadata": {},
   "outputs": [
    {
     "name": "stdout",
     "output_type": "stream",
     "text": [
      "0      0.784214\n",
      "1      0.784214\n",
      "2      1.176321\n",
      "3      0.784214\n",
      "4      1.960535\n",
      "         ...   \n",
      "702    0.392107\n",
      "703    1.176321\n",
      "704    4.313176\n",
      "706    0.392107\n",
      "708    0.392107\n",
      "Name: host_listings_count, Length: 616, dtype: float64\n"
     ]
    }
   ],
   "source": [
    "#Listings count\n",
    "# Convert host_listings_count to a numerical value\n",
    "listings_count = listings['host_listings_count'].astype(float)\n",
    "# Divide each value by the average listings count\n",
    "listings_count = listings['host_listings_count']/listings['host_listings_count'].mean()\n",
    "print(listings_count)"
   ]
  },
  {
   "cell_type": "code",
   "execution_count": 240,
   "metadata": {},
   "outputs": [
    {
     "name": "stdout",
     "output_type": "stream",
     "text": [
      "0      0.909076\n",
      "1      0.909076\n",
      "2      0.909076\n",
      "3      0.909076\n",
      "4      0.909076\n",
      "         ...   \n",
      "702    0.909076\n",
      "703    0.909076\n",
      "704    0.909076\n",
      "706    0.909076\n",
      "708    0.909076\n",
      "Name: host_verifications, Length: 616, dtype: float64\n"
     ]
    }
   ],
   "source": [
    "#Print both\n",
    "# Convert host_verifications to a numerical value which is the amount of verifications\n",
    "verifications = listings['host_verifications'].str.len()\n",
    "# Divide each value by the average number of verifications\n",
    "verifications = verifications/verifications.mean()\n",
    "print(verifications)"
   ]
  },
  {
   "cell_type": "code",
   "execution_count": 241,
   "metadata": {},
   "outputs": [
    {
     "name": "stdout",
     "output_type": "stream",
     "text": [
      "0      1\n",
      "1      1\n",
      "2      1\n",
      "3      1\n",
      "4      1\n",
      "      ..\n",
      "702    1\n",
      "703    1\n",
      "704    1\n",
      "706    1\n",
      "708    1\n",
      "Name: host_has_profile_pic, Length: 616, dtype: int64\n"
     ]
    }
   ],
   "source": [
    "# Profile pic\n",
    "# Convert host_has_profile_pic to a numerical value\n",
    "profice_picture = listings['host_has_profile_pic'].map({'t': 1, 'f': 0})\n",
    "print(profice_picture)"
   ]
  },
  {
   "cell_type": "code",
   "execution_count": 242,
   "metadata": {},
   "outputs": [
    {
     "name": "stdout",
     "output_type": "stream",
     "text": [
      "0      1\n",
      "1      1\n",
      "2      1\n",
      "3      1\n",
      "4      1\n",
      "      ..\n",
      "702    1\n",
      "703    1\n",
      "704    1\n",
      "706    1\n",
      "708    1\n",
      "Name: host_identity_verified, Length: 616, dtype: int64\n"
     ]
    }
   ],
   "source": [
    "# Identity verified\n",
    "# Convert host_identity_verified to a numerical value\n",
    "identity_verified = listings['host_identity_verified'].map({'t': 1, 'f': 0})\n",
    "print(identity_verified)"
   ]
  },
  {
   "cell_type": "code",
   "execution_count": 243,
   "metadata": {},
   "outputs": [
    {
     "name": "stdout",
     "output_type": "stream",
     "text": [
      "0      0.0\n",
      "1      0.0\n",
      "2      1.0\n",
      "3      0.0\n",
      "4      1.0\n",
      "      ... \n",
      "702    0.0\n",
      "703    1.0\n",
      "704    0.0\n",
      "706    1.0\n",
      "708    1.0\n",
      "Name: neighbourhood_cleansed, Length: 616, dtype: float64\n"
     ]
    }
   ],
   "source": [
    "# Split neighbourhood_cleansed into Dublin city as 1 and 0 if not\n",
    "neighbourhood_area = listings['neighbourhood_cleansed'].map({'Dublin City': 1})\n",
    "# Set NaNs to 0\n",
    "neighbourhood_area = neighbourhood_area.fillna(0)\n",
    "print(neighbourhood_area)"
   ]
  },
  {
   "cell_type": "code",
   "execution_count": 244,
   "metadata": {},
   "outputs": [
    {
     "name": "stdout",
     "output_type": "stream",
     "text": [
      "0      0.623482\n",
      "1      0.623482\n",
      "2      0.311741\n",
      "3      1.870445\n",
      "4      1.558704\n",
      "         ...   \n",
      "702    0.935223\n",
      "703    2.493927\n",
      "704    0.311741\n",
      "706    2.182186\n",
      "708    0.623482\n",
      "Name: accommodates, Length: 616, dtype: float64\n",
      "0      1.008251\n",
      "1      0.504125\n",
      "2      0.504125\n",
      "3      2.016502\n",
      "4      1.512376\n",
      "         ...   \n",
      "702    1.008251\n",
      "703    1.512376\n",
      "704    0.504125\n",
      "706    2.016502\n",
      "708    0.504125\n",
      "Name: beds, Length: 616, dtype: float64\n",
      "0      0.618380\n",
      "1      1.236759\n",
      "2      0.618380\n",
      "3      0.927569\n",
      "4      1.030633\n",
      "         ...   \n",
      "702    0.927569\n",
      "703    1.649012\n",
      "704    0.618380\n",
      "706    1.082164\n",
      "708    1.236759\n",
      "Length: 616, dtype: float64\n",
      "0      0.61687\n",
      "1      0.61687\n",
      "2      0.61687\n",
      "3      1.23374\n",
      "4      0.61687\n",
      "        ...   \n",
      "702    1.23374\n",
      "703    1.85061\n",
      "704    0.61687\n",
      "706    2.46748\n",
      "708    0.61687\n",
      "Name: bedrooms, Length: 616, dtype: float64\n"
     ]
    }
   ],
   "source": [
    "# Accommodates\n",
    "# Convert accommodates to a numerical value\n",
    "acc = listings['accommodates'].astype(float)\n",
    "# Divide each value by the average number of accommodates\n",
    "acc = listings['accommodates']/listings['accommodates'].mean()\n",
    "print(acc)\n",
    "\n",
    "# beds\n",
    "# Convert beds to a numerical value\n",
    "beds = listings['beds'].astype(float)\n",
    "# Divide each value by the average number of beds\n",
    "beds = listings['beds']/listings['beds'].mean()\n",
    "print(beds)\n",
    "\n",
    "# Accomodates to beds ratio\n",
    "acc_bed_ratito = acc/beds\n",
    "print(acc_bed_ratito)\n",
    "\n",
    "# Bedrooms\n",
    "# Convert bedrooms to a numerical value\n",
    "bedrooms = listings['bedrooms'].astype(float)\n",
    "# Divide each value by the average number of bedrooms\n",
    "bedrooms = listings['bedrooms']/listings['bedrooms'].mean()\n",
    "print(bedrooms)"
   ]
  },
  {
   "cell_type": "code",
   "execution_count": 245,
   "metadata": {},
   "outputs": [
    {
     "name": "stdout",
     "output_type": "stream",
     "text": [
      "0      0.418668\n",
      "1      0.418668\n",
      "2      0.279112\n",
      "3      0.139556\n",
      "4      0.418668\n",
      "         ...   \n",
      "702    0.697780\n",
      "703    2.093339\n",
      "704    0.139556\n",
      "706    0.279112\n",
      "708    0.279112\n",
      "Name: minimum_nights, Length: 616, dtype: float64\n"
     ]
    }
   ],
   "source": [
    "# Minimum nights\n",
    "# Convert minimum_nights to a numerical value\n",
    "min_nights = listings['minimum_nights'].astype(float)\n",
    "# Divide each value by the average number of minimum nights\n",
    "min_nights = listings['minimum_nights']/listings['minimum_nights'].mean()\n",
    "print(min_nights)\n"
   ]
  },
  {
   "cell_type": "code",
   "execution_count": 246,
   "metadata": {},
   "outputs": [
    {
     "name": "stdout",
     "output_type": "stream",
     "text": [
      "0      1.771192\n",
      "1      1.873376\n",
      "2      4.938900\n",
      "3      1.260271\n",
      "4      0.527951\n",
      "         ...   \n",
      "702    0.000000\n",
      "703    0.000000\n",
      "704    0.000000\n",
      "706    0.000000\n",
      "708    2.929278\n",
      "Name: availability_365, Length: 616, dtype: float64\n"
     ]
    }
   ],
   "source": [
    "# Convert availability_365 to a numerical value\n",
    "availability = listings['availability_365'].astype(float)\n",
    "# divide each value by the average availability\n",
    "availability = availability/availability.mean()\n",
    "print(availability)"
   ]
  },
  {
   "cell_type": "code",
   "execution_count": 247,
   "metadata": {},
   "outputs": [
    {
     "name": "stdout",
     "output_type": "stream",
     "text": [
      "0      3.067102\n",
      "1      2.496478\n",
      "2      4.220237\n",
      "3      3.875485\n",
      "4      0.760831\n",
      "         ...   \n",
      "702    0.249648\n",
      "703    1.735647\n",
      "704    3.185981\n",
      "706    0.225872\n",
      "708    2.092286\n",
      "Name: number_of_reviews, Length: 616, dtype: float64\n"
     ]
    }
   ],
   "source": [
    "# Number of reviews\n",
    "# Convert number_of_reviews to a numerical value\n",
    "reviews_amount = listings['number_of_reviews'].astype(float)\n",
    "#Divide each value by the average number of reviews\n",
    "reviews_amount = reviews_amount/reviews_amount.mean()\n",
    "print(reviews_amount)"
   ]
  },
  {
   "cell_type": "code",
   "execution_count": 248,
   "metadata": {},
   "outputs": [
    {
     "name": "stdout",
     "output_type": "stream",
     "text": [
      "0      2.448155\n",
      "1      1.591826\n",
      "2      1.192556\n",
      "3      2.177597\n",
      "4      1.171542\n",
      "         ...   \n",
      "702    0.682962\n",
      "703    0.735497\n",
      "704    2.264281\n",
      "706    1.534037\n",
      "708    0.990295\n",
      "Name: amenities, Length: 616, dtype: float64\n"
     ]
    }
   ],
   "source": [
    "# Convert amenities to a numerical value which is the amount of amenities\n",
    "amenities = listings['amenities'].str.len()\n",
    "# Divide each value by the average number of amenities\n",
    "amenities = amenities/amenities.mean()\n",
    "print(amenities)"
   ]
  },
  {
   "cell_type": "code",
   "execution_count": 249,
   "metadata": {},
   "outputs": [
    {
     "name": "stdout",
     "output_type": "stream",
     "text": [
      "0      1.954080\n",
      "1      1.616077\n",
      "2      2.936402\n",
      "3      3.887035\n",
      "4      0.507005\n",
      "         ...   \n",
      "702    0.285190\n",
      "703    1.827329\n",
      "704    3.348343\n",
      "706    0.253502\n",
      "708    2.249833\n",
      "Name: reviews_per_month, Length: 616, dtype: float64\n"
     ]
    }
   ],
   "source": [
    "# Reviews per month\n",
    "# Convert reviews_per_month to a numerical value\n",
    "reviews_per_month = listings['reviews_per_month'].astype(float)\n",
    "# Divide each value by the average number of reviews per month\n",
    "reviews_per_month = reviews_per_month/reviews_per_month.mean()\n",
    "print(reviews_per_month)"
   ]
  },
  {
   "cell_type": "code",
   "execution_count": 250,
   "metadata": {},
   "outputs": [
    {
     "name": "stdout",
     "output_type": "stream",
     "text": [
      "(616, 60137)\n"
     ]
    }
   ],
   "source": [
    "# Linear Regression model to predict review_scores_rating\n",
    "\n",
    "from sklearn.linear_model import LinearRegression\n",
    "from sklearn.model_selection import train_test_split\n",
    "from sklearn.metrics import mean_squared_error\n",
    "\n",
    "# Create a list of features\n",
    "features = [reviews_amount, host_since, response_time, response_rate, superhost, host_long, host_lat, listings_count, verifications, profice_picture, identity_verified, neighbourhood_area, acc, beds, acc_bed_ratito, bedrooms, min_nights, availability, amenities, reviews_per_month, tfidf_matrix.toarray(), tfidf_matrix1.toarray(), tfidf_matrix2.toarray() ]\n",
    "# Column stack the features\n",
    "features = np.column_stack(features)\n",
    "# Get the rating for each of the IDs\n",
    "# Get the shape of the features\n",
    "print(features.shape)\n",
    "# If features has Nan values, replace them with 0\n",
    "features = np.nan_to_num(features)"
   ]
  },
  {
   "cell_type": "code",
   "execution_count": 299,
   "metadata": {},
   "outputs": [
    {
     "data": {
      "image/png": "[encoded data removed]",
      "text/plain": [
       "<Figure size 640x480 with 1 Axes>"
      ]
     },
     "metadata": {},
     "output_type": "display_data"
    },
    {
     "name": "stdout",
     "output_type": "stream",
     "text": [
      "(616,)\n",
      "2221.723506644286\n"
     ]
    }
   ],
   "source": [
    "# Read listings data\n",
    "listings = pd.read_csv('listings.csv')\n",
    "# Get the rating for each of the IDs\n",
    "# Get the data for the listings that have reviews\n",
    "rating_test = 'review_scores_value'\n",
    "listings = listings[listings['id'].isin(listing_ids)]\n",
    "rating = listings[rating_test]\n",
    "#Replace Nan values with 0\n",
    "rating = rating.fillna(0)\n",
    "# Print a diagram of the rating to check if it is skewed\n",
    "plt.hist(rating, bins=20)\n",
    "# Label the axes\n",
    "plt.title('Rating Before Raising to the Power of 5')\n",
    "plt.xlabel('Rating')\n",
    "plt.ylabel('Frequency')\n",
    "plt.show()\n",
    "# Get the shape of the rating\n",
    "print(rating.shape)\n",
    "# Cube all the values in the rating\n",
    "rating = rating**5\n",
    "print(rating.mean())\n"
   ]
  },
  {
   "cell_type": "code",
   "execution_count": 300,
   "metadata": {},
   "outputs": [
    {
     "data": {
      "image/png": "[encoded data removed]",
      "text/plain": [
       "<Figure size 640x480 with 1 Axes>"
      ]
     },
     "metadata": {},
     "output_type": "display_data"
    }
   ],
   "source": [
    "# Print a diagram of the rating to check if it is skewed\n",
    "plt.hist(rating, bins=20)\n",
    "# Label the axes\n",
    "plt.xlabel('Rating')\n",
    "plt.ylabel('Frequency')\n",
    "#Title\n",
    "plt.title('Rating After Raising to the Power of 5')\n",
    "plt.show()\n"
   ]
  },
  {
   "cell_type": "code",
   "execution_count": 301,
   "metadata": {},
   "outputs": [],
   "source": [
    "# Split the data into training and testing sets\n",
    "train_features, test_features, train_rating, test_rating = train_test_split(features, rating, test_size = 0.2, random_state = 1)\n"
   ]
  },
  {
   "cell_type": "code",
   "execution_count": 302,
   "metadata": {},
   "outputs": [
    {
     "name": "stdout",
     "output_type": "stream",
     "text": [
      "0.1237574167574403\n",
      "0.35179172354880706\n",
      "-34.44189880180744\n"
     ]
    }
   ],
   "source": [
    "# Create a linear regression model\n",
    "model_logreg = LinearRegression()\n",
    "# Fit the model to the training data\n",
    "model_logreg.fit(train_features, train_rating)\n",
    "# Make predictions using the testing set\n",
    "predictions = model_logreg.predict(test_features)\n",
    "# Cube root the predictions\n",
    "predictions = predictions**(1/5)\n",
    "test_rating = test_rating**(1/5)\n",
    "# If prdiction is greater than 5, set it to 5\n",
    "predictions[predictions > 5] = 5\n",
    "# Calculate the mean squared error\n",
    "mse = mean_squared_error(test_rating, predictions)\n",
    "# Print the mean squared error\n",
    "print(mse)\n",
    "# Print the root mean squared error\n",
    "print(mse**(1/2))\n",
    "# Print the R^2 score\n",
    "val = model_logreg.score(test_features, test_rating)\n",
    "#Remember the sign of val\n",
    "sign = np.sign(val)\n",
    "# Absolute value of val\n",
    "val = abs(val)\n",
    "# Print the R^2 score\n",
    "print(val**(1/5)*sign)"
   ]
  },
  {
   "cell_type": "code",
   "execution_count": 303,
   "metadata": {},
   "outputs": [
    {
     "data": {
      "image/png": "[encoded data removed]",
      "text/plain": [
       "<Figure size 640x480 with 1 Axes>"
      ]
     },
     "metadata": {},
     "output_type": "display_data"
    }
   ],
   "source": [
    "# Plot a histogram of the test rating and predictions\n",
    "plt.hist(test_rating, alpha = 0.5, label = 'test rating')\n",
    "plt.hist(predictions, alpha = 0.5, label = 'predictions')\n",
    "# Label the axes\n",
    "plt.xlabel('Rating')\n",
    "plt.ylabel('Frequency')\n",
    "# Set the title\n",
    "plt.title('Histogram of test rating and predictions')\n",
    "plt.legend(loc = 'upper right')\n",
    "plt.show()"
   ]
  },
  {
   "cell_type": "code",
   "execution_count": 258,
   "metadata": {},
   "outputs": [
    {
     "data": {
      "image/png": "[encoded data removed]",
      "text/plain": [
       "<Figure size 640x480 with 1 Axes>"
      ]
     },
     "metadata": {},
     "output_type": "display_data"
    }
   ],
   "source": [
    "# Read listings data\n",
    "listings = pd.read_csv('listings.csv')\n",
    "# Get the rating for each of the IDs\n",
    "# Get the data for the listings that have reviews\n",
    "listings = listings[listings['id'].isin(listing_ids)]\n",
    "rating = listings[rating_test]\n",
    "# Replace NaN values with the mean\n",
    "rating = rating.fillna(rating.mean())\n",
    "\n",
    "# Get the mean of the ratings\n",
    "mean_rating = np.mean(rating)\n",
    "\n",
    "# Assign the rating to 0 if it is less than the mean rating and 1 if it is greater than the mean rating\n",
    "rating = np.where(rating < mean_rating, 0, 1)\n",
    "\n",
    "# Train a SVM model to predict the rating\n",
    "from sklearn.svm import SVC\n",
    "from sklearn.metrics import accuracy_score\n",
    "\n",
    "# Split the data into training and testing sets\n",
    "train_features, test_features, train_rating, test_rating = train_test_split(features, rating, test_size = 0.2, random_state = 1)\n",
    "\n",
    "# Tune the value of C to get the best accuracy and f1 score using cross validation\n",
    "from sklearn.metrics import f1_score\n",
    "\n",
    "# Create a list of values for C\n",
    "C = [0.001, 0.01, 0.1, 1, 10, 100, 1000]\n",
    "\n",
    "mean_score = []\n",
    "mean_std = []\n",
    "f1_score = []\n",
    "f1_std = []\n",
    "\n",
    "from sklearn.svm import LinearSVC\n",
    "for i in C:\n",
    "    svm = LinearSVC(penalty='l2', C=i, max_iter = 10000)\n",
    "    from sklearn.model_selection import cross_val_score\n",
    "    scores = cross_val_score(svm, features, np.ravel(rating), cv=5)\n",
    "    f1 = cross_val_score(svm, features, np.ravel(rating), cv=5, scoring='f1')\n",
    "    # print('-----------------knn with true class-----------------')\n",
    "    # print('cross validation scores', scores)\n",
    "    # print('cross validation mean score', scores.mean())\n",
    "    mean_score.append(scores.mean())\n",
    "    mean_std.append(scores.std())\n",
    "    f1_score.append(f1.mean())\n",
    "    f1_std.append(f1.std())\n",
    "\n",
    "\n",
    "C_range_text = [\"0.001\", \"0.01\", \"0.1\", \"1\", \"10\", \"100\", \"1000\"]\n",
    "import matplotlib.pyplot as plt\n",
    "fig = plt.figure()\n",
    "ax = fig.subplots(1,1)\n",
    "ax.plot(C_range_text, mean_score, label='Accuracy')\n",
    "ax.plot(C_range_text, f1_score, label='F1 score')\n",
    "ax.errorbar(C_range_text, mean_score, yerr=mean_std, fmt='o', label='Accuracy std')\n",
    "ax.errorbar(C_range_text, f1_score, yerr=f1_std, fmt='o', label='F1 score std')\n",
    "ax.set_xlabel('L2 Penalty')\n",
    "ax.set_ylabel('Score')\n",
    "ax.set_title('Altering SVM L2 Penalty')\n",
    "plt.legend()\n",
    "plt.show()\n"
   ]
  },
  {
   "cell_type": "code",
   "execution_count": 259,
   "metadata": {},
   "outputs": [
    {
     "name": "stdout",
     "output_type": "stream",
     "text": [
      "0.7110411749278783\n"
     ]
    }
   ],
   "source": [
    "# Determine the max accuracy and f1 score\n",
    "max_accuracy = max(mean_score)\n",
    "print(max_accuracy)"
   ]
  },
  {
   "cell_type": "code",
   "execution_count": 304,
   "metadata": {},
   "outputs": [
    {
     "name": "stdout",
     "output_type": "stream",
     "text": [
      "0.7258064516129032\n",
      "[[16 20]\n",
      " [14 74]]\n",
      "0.48484848484848486\n"
     ]
    }
   ],
   "source": [
    "# Read listings data\n",
    "listings = pd.read_csv('listings.csv')\n",
    "# Get the rating for each of the IDs\n",
    "# Get the data for the listings that have reviews\n",
    "listings = listings[listings['id'].isin(listing_ids)]\n",
    "rating = listings[rating_test]\n",
    "# Replace NaN values with the mean\n",
    "rating = rating.fillna(rating.mean())\n",
    "# Assign the rating to 0 if it is less than the mean rating and 1 if it is greater than the mean rating\n",
    "rating = np.where(rating < mean_rating, 0, 1)\n",
    "\n",
    "train_features, test_features, train_rating, test_rating = train_test_split(features, rating, test_size = 0.2, random_state = 1)\n",
    "\n",
    "# Create a SVM model with the best C value\n",
    "model = LinearSVC(penalty='l2', C=0.1, max_iter = 10000)\n",
    "# Fit the model to the training data\n",
    "model.fit(train_features, train_rating)\n",
    "# Make predictions using the testing set\n",
    "predictions = model.predict(test_features)\n",
    "# Calculate the accuracy\n",
    "accuracy = accuracy_score(test_rating, predictions)\n",
    "# Print the accuracy\n",
    "print(accuracy)\n",
    "# Calculate the f1 score based on the confusion matrix\n",
    "from sklearn.metrics import confusion_matrix\n",
    "confusion_matrix = confusion_matrix(test_rating, predictions)\n",
    "print(confusion_matrix)\n",
    "# Calculate the f1 score\n",
    "f1 = 2*confusion_matrix[0][0]/(2*confusion_matrix[0][0] + confusion_matrix[0][1] + confusion_matrix[1][0])\n",
    "# Print the f1 score\n",
    "print(f1)\n"
   ]
  },
  {
   "cell_type": "code",
   "execution_count": 306,
   "metadata": {},
   "outputs": [
    {
     "name": "stdout",
     "output_type": "stream",
     "text": [
      "-----------------SVM coefficients with corresponding labels -----------------\n",
      "-----------------SVM intercept (bias)-----------------\n",
      "[0.07269602]\n",
      "reviews_amount     -0.028\n",
      "host_since     -0.3366\n",
      "response_time     0.02\n",
      "response_rate     0.3869\n",
      "superhost     0.4155\n",
      "host_long     0.073\n",
      "host_lat     0.0717\n",
      "listings_count     -0.0665\n",
      "verifications     0.1467\n",
      "profice_picture     -0.0749\n",
      "identity_verified     -0.0465\n",
      "neighbourhood_area     -0.1252\n",
      "acc     -0.1063\n",
      "beds     -0.191\n",
      "acc_bed_ratito     -0.1434\n",
      "bedrooms     0.2177\n",
      "min_nights     0.0105\n",
      "availability     0.0167\n",
      "amenities     0.1417\n",
      "reviews_per_month     0.1047\n",
      "-----------------SVM average coefficients for tfidf features-----------------\n",
      "0.00020653542673340974\n",
      "----------------- LOGREG coefficients with corresponding labels -----------------\n",
      "[-1. -1.  1. ... -1.  1. -1.]\n",
      "-----------------intercept (bias)-----------------\n",
      "2238.069143075887\n",
      "nan\n",
      "reviews_amount     nan\n",
      "nan\n",
      "host_since     nan\n",
      "1.8811488844047188\n",
      "response_time     1.8811\n",
      "2.90752178568493\n",
      "response_rate     2.9075\n",
      "2.5732178164043096\n",
      "superhost     2.5732\n",
      "2.805450205060862\n",
      "host_long     2.8055\n",
      "nan\n",
      "host_lat     nan\n",
      "nan\n",
      "listings_count     nan\n",
      "nan\n",
      "verifications     nan\n",
      "nan\n",
      "profice_picture     nan\n",
      "nan\n",
      "identity_verified     nan\n",
      "nan\n",
      "neighbourhood_area     nan\n",
      "nan\n",
      "acc     nan\n",
      "1.8430333834130013\n",
      "beds     1.843\n",
      "nan\n",
      "acc_bed_ratito     nan\n",
      "nan\n",
      "bedrooms     nan\n",
      "1.440480427840014\n",
      "min_nights     1.4405\n",
      "1.7218857421025737\n",
      "availability     1.7219\n",
      "2.724333378281217\n",
      "amenities     2.7243\n",
      "2.775082273534753\n",
      "reviews_per_month     2.7751\n",
      "20\n"
     ]
    },
    {
     "name": "stderr",
     "output_type": "stream",
     "text": [
      "C:\\Users\\lukej\\AppData\\Local\\Temp\\ipykernel_16192\\154401480.py:37: RuntimeWarning: invalid value encountered in double_scalars\n",
      "  print(model_logreg.coef_[i]**(1/5))\n",
      "C:\\Users\\lukej\\AppData\\Local\\Temp\\ipykernel_16192\\154401480.py:38: RuntimeWarning: invalid value encountered in double_scalars\n",
      "  print(feature_labels[i], '   ', round( model_logreg.coef_[i]**(1/5), 4))\n"
     ]
    },
    {
     "data": {
      "image/png": "[encoded data removed]",
      "text/plain": [
       "<Figure size 640x480 with 1 Axes>"
      ]
     },
     "metadata": {},
     "output_type": "display_data"
    }
   ],
   "source": [
    "\n",
    "feature_labels = ['reviews_amount', 'host_since', 'response_time', 'response_rate', 'superhost', 'host_long', 'host_lat', 'listings_count', 'verifications', 'profice_picture', 'identity_verified', 'neighbourhood_area', 'acc', 'beds', 'acc_bed_ratito', 'bedrooms', 'min_nights', 'availability', 'amenities', 'reviews_per_month']\n",
    "print('-----------------SVM coefficients with corresponding labels -----------------')\n",
    "coeff_pred_svm = model.coef_\n",
    "# print(coeff_pred_svm)\n",
    "\n",
    "print('-----------------SVM intercept (bias)-----------------')\n",
    "print(model.intercept_)\n",
    "\n",
    "for i in range(len(feature_labels)):\n",
    "    print(feature_labels[i], '   ', round( model.coef_[0][i], 4))\n",
    "\n",
    "# Get the average model coefficients for the tfidf features\n",
    "avg_coeff = np.mean(model.coef_[0][len(feature_labels):], axis=0)\n",
    "print('-----------------SVM average coefficients for tfidf features-----------------')\n",
    "print(avg_coeff)\n",
    "\n",
    "\n",
    "\n",
    "print('----------------- LOGREG coefficients with corresponding labels -----------------')\n",
    "coeff_pred_logreg = model_logreg.coef_\n",
    "# Get a matrix of the signs of the coefficients\n",
    "signs = np.sign(coeff_pred_logreg)\n",
    "print(signs)\n",
    "# Get the absolute value of the coefficients\n",
    "coeff_pred_logreg = np.abs(coeff_pred_logreg)\n",
    "# Take the 5th root of the coefficients\n",
    "coeff_pred_logreg = coeff_pred_logreg**(1/5)\n",
    "# Multiply the coefficients by the signs\n",
    "coeff_pred_logreg = coeff_pred_logreg * signs\n",
    "# Divide by 4\n",
    "coeff_pred_logreg = coeff_pred_logreg / 6\n",
    "\n",
    "print('-----------------intercept (bias)-----------------')\n",
    "print(model_logreg.intercept_)\n",
    "\n",
    "for i in range(len(feature_labels)):\n",
    "    print(model_logreg.coef_[i]**(1/5))\n",
    "    print(feature_labels[i], '   ', round( model_logreg.coef_[i]**(1/5), 4))\n",
    "\n",
    "#-----------------View weigthing of coefficients ----------------\n",
    "import matplotlib.pyplot as plt\n",
    "fig = plt.figure()\n",
    "ax = fig.subplots(1,1)\n",
    "\n",
    "X_axis = np.arange(len(feature_labels))\n",
    "\n",
    "print(len(X_axis))\n",
    "\n",
    "plt.xticks(X_axis, feature_labels, rotation=90)\n",
    "ax.bar(X_axis + 0.2, coeff_pred_logreg[0:20], 0.4, label='Logistic Regression')\n",
    "ax.bar(X_axis - 0.2, coeff_pred_svm[0][0:20], 0.4, label='SVM')\n",
    "# Add single extra bar for the average tfidf coefficients\n",
    "ax.set_ylabel('Weighting')\n",
    "# ax.set_title('Weighting of factors')\n",
    "ax.legend()\n",
    "plt.tight_layout()\n",
    "plt.show()"
   ]
  }
 ],
 "metadata": {
  "kernelspec": {
   "display_name": "Python 3 (ipykernel)",
   "language": "python",
   "name": "python3"
  },
  "language_info": {
   "codemirror_mode": {
    "name": "ipython",
    "version": 3
   },
   "file_extension": ".py",
   "mimetype": "text/x-python",
   "name": "python",
   "nbconvert_exporter": "python",
   "pygments_lexer": "ipython3",
   "version": "3.9.12"
  },
  "vscode": {
   "interpreter": {
    "hash": "26de051ba29f2982a8de78e945f0abaf191376122a1563185a90213a26c5da77"
   }
  }
 },
 "nbformat": 4,
 "nbformat_minor": 2
}
