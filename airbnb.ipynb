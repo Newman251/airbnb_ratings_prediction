{
 "cells": [
  {
   "cell_type": "code",
   "execution_count": 1,
   "metadata": {},
   "outputs": [],
   "source": [
    "import pandas as pd\n",
    "import numpy as np\n",
    "import matplotlib.pyplot as plt\n",
    "\n",
    "import nltk\n",
    "from nltk.corpus import stopwords\n",
    "from nltk.tokenize import WhitespaceTokenizer\n",
    "from nltk.stem import PorterStemmer\n",
    "from nltk.stem import WordNetLemmatizer\n",
    "from sklearn.feature_extraction.text import CountVectorizer\n",
    "from sklearn.feature_extraction.text import TfidfVectorizer\n",
    "from langdetect import detect\n",
    "import emoji\n",
    "from translate import Translator\n",
    "\n",
    "ps = PorterStemmer()\n",
    "# Get reviews dataframe\n",
    "reviews = pd.read_csv('reviews.csv')\n",
    "# Create new dataframe with only the columns we need\n",
    "reviews = reviews[['listing_id', 'comments', 'reviewer_name']]\n",
    "# Remove stop words from reviews\n",
    "stop_words = set(stopwords.words('english'))\n",
    "\n",
    "# Declare variables\n",
    "parsedReviews = []\n",
    "listing_ids = []\n",
    "reviews_amount = []\n",
    "listing_counter =[]\n",
    "i = 0\n",
    "step_size = 1\n",
    "\n",
    "for review in reviews['comments'][0:243150:step_size]:\n",
    "    # Skip if review is float\n",
    "    if type(review) == float:\n",
    "        i+=step_size\n",
    "        continue\n",
    "    # Skip reviews that are too short and review is string\n",
    "    if len(review) < 10:\n",
    "        i+=step_size\n",
    "        continue\n",
    "    # Detect language of review\n",
    "    lang = 'en'\n",
    "    if(review.isalpha()):\n",
    "        lang = detect(review)\n",
    "    # Translate review to english if it is not already in english\n",
    "    if lang != 'en':\n",
    "        translator = Translator(from_lang=lang, to_lang='en')\n",
    "        # print(review)\n",
    "        # Split the review into sentences\n",
    "        sentences = review.split('.')\n",
    "        # Translate each sentence\n",
    "        for i in range(len(sentences)):\n",
    "            sentences[i] = translator.translate(sentences[i])\n",
    "        # Join the sentences back together\n",
    "        review = '. '.join(sentences)\n",
    "        # print(review)\n",
    "        # print('-----------------')\n",
    "    # Replace all emojis with their description\n",
    "    review = emoji.demojize(review)\n",
    "    # Replace all :s and _s with spaces\n",
    "    review = review.replace(':', ' ')\n",
    "    review = review.replace('_', ' ')\n",
    "    # Tokenize the review\n",
    "    review = WhitespaceTokenizer().tokenize(review)\n",
    "    # Remove stop words, capitalisation and punctuation from the review\n",
    "    filtered = [w for w in review if not w in stop_words]\n",
    "    filtered = [w.lower() for w in filtered]\n",
    "    filtered = [w for w in filtered if w.isalpha()]\n",
    "    filtered = [w for w in filtered if len(w)>3]\n",
    "    # Remove numbers from the review\n",
    "    filtered = [w for w in filtered if not w.isdigit()]\n",
    "    # Stem words in the review\n",
    "    stemmed = [ps.stem(w) for w in filtered]\n",
    "    # print(stemmed)\n",
    "    # Make each review a string\n",
    "    stemmed = ' '.join(stemmed)\n",
    "\n",
    "    # Determine the listing id of the review\n",
    "    listing_id = reviews['listing_id'][i]\n",
    "    i+=step_size\n",
    "    \n",
    "    # If the id is not already in the list, add it\n",
    "    if listing_id not in listing_ids:\n",
    "        listing_ids.append(listing_id)\n",
    "        parsedReviews.append(stemmed)\n",
    "    # If the id is already in the list, append the review to the existing review\n",
    "    else:\n",
    "        index = listing_ids.index(listing_id)\n",
    "        parsedReviews[index] += ' ' + stemmed\n",
    "\n",
    "# Create tfidf matrix for first five reviews\n",
    "tfidf = TfidfVectorizer()\n",
    "tfidf_matrix = tfidf.fit_transform(parsedReviews)\n",
    "# print(tfidf.get_feature_names_out())\n",
    "# print(tfidf_matrix.toarray()[0])\n",
    "# print(parsedReviews[0])"
   ]
  },
  {
   "cell_type": "code",
   "execution_count": 3,
   "metadata": {},
   "outputs": [
    {
     "name": "stdout",
     "output_type": "stream",
     "text": [
      "[44077, 302634, 1797712, 374792, 386860, 1804494, 393631, 1896821, 85156, 419987]\n"
     ]
    }
   ],
   "source": [
    "# print(tfidf.get_feature_names_out())\n",
    "print(listing_ids[0:10])\n",
    "# print(parsedReviews)"
   ]
  },
  {
   "cell_type": "code",
   "execution_count": 4,
   "metadata": {},
   "outputs": [],
   "source": [
    "# Feature Engineering\n",
    "# Read listings.csv into a dataframe\n",
    "listings = pd.read_csv('listings.csv')\n",
    "# Create new dataframe with only id and description columns\n",
    "listings = listings[['id', 'description', 'host_since', 'longitude','latitude', 'host_about', 'host_response_time', 'host_response_rate', 'host_is_superhost', 'host_neighbourhood', 'host_listings_count', 'host_total_listings_count', 'host_verifications', 'host_has_profile_pic', 'host_identity_verified', 'neighbourhood_cleansed', 'property_type', 'accommodates','bathrooms_text', 'bedrooms', 'beds', 'amenities', 'price','availability_365',  'number_of_reviews', 'number_of_reviews_ltm', 'number_of_reviews_l30d', 'minimum_nights', 'first_review', 'last_review', 'review_scores_rating', 'review_scores_accuracy', 'review_scores_cleanliness', 'review_scores_checkin', 'review_scores_communication', 'review_scores_location', 'review_scores_value', 'instant_bookable', 'calculated_host_listings_count', 'calculated_host_listings_count_entire_homes', 'calculated_host_listings_count_private_rooms', 'calculated_host_listings_count_shared_rooms', 'reviews_per_month']]\n",
    "\n",
    "# Declare variables (after downloading nltk, run nltk.download('stopwords') in the console)\n",
    "stop_words = set(stopwords.words('english'))\n",
    "\n",
    "# Get the data for the listings that have reviews\n",
    "listings = listings[listings['id'].isin(listing_ids)]\n",
    "\n",
    "# Parse the host description\n",
    "parsedDescriptions = []\n",
    "for description in listings['description']:\n",
    "    # Skip if description is float\n",
    "    if type(description) != str:\n",
    "        parsedDescriptions.append('')\n",
    "        continue\n",
    "    # Skip reviews that are too short and review is string\n",
    "    if len(description) < 10:\n",
    "        continue\n",
    "    # Detect language of review\n",
    "    lang = 'en'\n",
    "    if(description.isalpha()):\n",
    "        lang = detect(description)\n",
    "    # Translate description to english if it is not already in english\n",
    "    if lang != 'en':\n",
    "        translator = Translator(from_lang=lang, to_lang='en')\n",
    "\n",
    "        # Split the description into sentences\n",
    "        sentences = description.split('.')\n",
    "        # Translate each sentence\n",
    "        for i in range(len(sentences)):\n",
    "            sentences[i] = translator.translate(sentences[i])\n",
    "        # Join the sentences back together\n",
    "        description = '. '.join(sentences)\n",
    "        # print(description)\n",
    "        # print('-----------------')\n",
    "    # Replace all emojis with their description\n",
    "    description = emoji.demojize(description)\n",
    "    # Replace all :s and _s with spaces\n",
    "    description = description.replace(':', ' ')\n",
    "    description = description.replace('_', ' ')\n",
    "    # Tokenize the description\n",
    "    description = WhitespaceTokenizer().tokenize(description)\n",
    "    # Remove stop words, capitalisation and punctuation from the description\n",
    "    filtered = [w for w in description if not w in stop_words]\n",
    "    filtered = [w.lower() for w in filtered]\n",
    "    filtered = [w for w in filtered if w.isalpha()]\n",
    "    filtered = [w for w in filtered if len(w)>3]\n",
    "    # Remove numbers from the description\n",
    "    filtered = [w for w in filtered if not w.isdigit()]\n",
    "    # Stem words in the description\n",
    "    stemmed = [ps.stem(w) for w in filtered]\n",
    "    # print(stemmed)\n",
    "    # Make each description a string\n",
    "    stemmed = ' '.join(stemmed)\n",
    "    parsedDescriptions.append(stemmed)\n",
    "\n",
    "# Parse the host about\n",
    "parsedAbouts = []\n",
    "for about in listings['host_about']:\n",
    "    # Skip abouts which are not strings\n",
    "    if type(about) != str:\n",
    "        parsedAbouts.append('')\n",
    "        continue\n",
    "    # Skip reviews that are too short and review is string\n",
    "    if len(about) < 10:\n",
    "        parsedAbouts.append('')\n",
    "        continue\n",
    "    # Detect language of review\n",
    "    lang = 'en'\n",
    "    if(about.isalpha()):\n",
    "        lang = detect(about)\n",
    "    # Translate about to english if it is not already in english\n",
    "    if lang != 'en':\n",
    "        translator = Translator(from_lang=lang, to_lang='en')\n",
    "        # print(about)\n",
    "        # print('-----------------')\n",
    "        # Split the about into sentences\n",
    "        sentences = about.split('.')\n",
    "        # Translate each sentence\n",
    "        for i in range(len(sentences)):\n",
    "            sentences[i] = translator.translate(sentences[i])\n",
    "        # Join the sentences back together\n",
    "        about = '. '.join(sentences)\n",
    "        # print(about)\n",
    "        # print('-----------------')\n",
    "    # Replace all emojis with their description\n",
    "    about = emoji.demojize(about)\n",
    "    # Replace all :s and _s with spaces\n",
    "    about = about.replace(':', ' ')\n",
    "    about = about.replace('_', ' ')\n",
    "    # Tokenize the about\n",
    "    about = WhitespaceTokenizer().tokenize(about)\n",
    "    # Remove stop words, capitalisation and punctuation from the about\n",
    "    filtered = [w for w in about if not w in stop_words]\n",
    "    filtered = [w.lower() for w in filtered]\n",
    "    filtered = [w for w in filtered if w.isalpha()]\n",
    "    filtered = [w for w in filtered if len(w)>3]\n",
    "    # Remove numbers from the about\n",
    "    filtered = [w for w in filtered if not w.isdigit()]\n",
    "    # Stem words in the about\n",
    "    stemmed = [ps.stem(w) for w in filtered]\n",
    "    # print(stemmed)\n",
    "    # Make each about a string\n",
    "    stemmed = ' '.join(stemmed)\n",
    "    parsedAbouts.append(stemmed)\n",
    "\n",
    "# Tfidf matric for descriptions and abouts\n",
    "tfidf = TfidfVectorizer()\n",
    "tfidf_matrix1 = tfidf.fit_transform(parsedDescriptions)\n",
    "tfidf_matrix2 = tfidf.fit_transform(parsedAbouts)\n",
    "\n"
   ]
  },
  {
   "cell_type": "code",
   "execution_count": 6,
   "metadata": {},
   "outputs": [
    {
     "name": "stdout",
     "output_type": "stream",
     "text": [
      "0      1.435456\n",
      "1      1.435456\n",
      "2      1.368552\n",
      "3      1.340282\n",
      "4      1.311699\n",
      "         ...   \n",
      "702    1.018954\n",
      "703    0.828607\n",
      "704    0.827664\n",
      "706    0.845254\n",
      "708    0.826722\n",
      "Name: host_since, Length: 616, dtype: float64\n"
     ]
    }
   ],
   "source": [
    "# Host since\n",
    "# Convert host_since to number of weeks\n",
    "listings['host_since'] = pd.to_datetime(listings['host_since'])\n",
    "# Convert value to host_since_weeks\n",
    "host_since = (np.datetime64('2022-12-12 00:00:00') - listings['host_since']).dt.days/7\n",
    "# Divide each value by the average number of weeks\n",
    "host_since = host_since/host_since.mean()\n",
    "# Replace any Nan values with the mean\n",
    "host_since = host_since.fillna(host_since.mean())\n",
    "# Print the first five rows of host_since_weeks\n",
    "print(host_since)"
   ]
  },
  {
   "cell_type": "code",
   "execution_count": 7,
   "metadata": {},
   "outputs": [
    {
     "name": "stdout",
     "output_type": "stream",
     "text": [
      "0      0.250000\n",
      "1      0.250000\n",
      "2      0.250000\n",
      "3      0.250000\n",
      "4      0.250000\n",
      "         ...   \n",
      "702    0.416667\n",
      "703    0.250000\n",
      "704    0.500000\n",
      "706    0.416667\n",
      "708    0.250000\n",
      "Name: host_response_time, Length: 616, dtype: float64\n"
     ]
    }
   ],
   "source": [
    "#Host response time\n",
    "# Convert host_response_time to a numerical value\n",
    "response_time = listings['host_response_time'].map({'within an hour': 0.25, 'within a few hours': 0.5, 'within a day': 0.75, 'a few days or more': 1})\n",
    "# Replace NaN values with the mean\n",
    "response_time = response_time.fillna(response_time.mean())\n",
    "print(response_time)"
   ]
  },
  {
   "cell_type": "code",
   "execution_count": 8,
   "metadata": {},
   "outputs": [
    {
     "name": "stdout",
     "output_type": "stream",
     "text": [
      "0      1.000000\n",
      "1      1.000000\n",
      "2      1.000000\n",
      "3      0.920000\n",
      "4      1.000000\n",
      "         ...   \n",
      "702    0.954444\n",
      "703    1.000000\n",
      "704    1.000000\n",
      "706    0.954444\n",
      "708    1.000000\n",
      "Name: host_response_rate, Length: 616, dtype: float64\n"
     ]
    }
   ],
   "source": [
    "# Host response rate\n",
    "# Convert host_response_rate to a numerical value\n",
    "listings['host_response_rate'] = listings['host_response_rate'].str.replace('%', '')\n",
    "response_rate = listings['host_response_rate'].astype(float) /100\n",
    "# Convert NaN values to 0\n",
    "response_rate = response_rate.fillna(response_rate.mean())\n",
    "print(response_rate)\n"
   ]
  },
  {
   "cell_type": "code",
   "execution_count": 9,
   "metadata": {},
   "outputs": [
    {
     "name": "stdout",
     "output_type": "stream",
     "text": [
      "0      1\n",
      "1      1\n",
      "2      0\n",
      "3      1\n",
      "4      0\n",
      "      ..\n",
      "702    0\n",
      "703    0\n",
      "704    1\n",
      "706    0\n",
      "708    1\n",
      "Name: host_is_superhost, Length: 616, dtype: int64\n"
     ]
    }
   ],
   "source": [
    "#Superhost\n",
    "# Convert host_is_superhost to a numerical value\n",
    "superhost = listings['host_is_superhost'].map({'t': 1, 'f': 0})\n",
    "print(superhost)"
   ]
  },
  {
   "cell_type": "code",
   "execution_count": 10,
   "metadata": {},
   "outputs": [
    {
     "name": "stdout",
     "output_type": "stream",
     "text": [
      "0      1.000815\n",
      "1      1.000547\n",
      "2      0.997225\n",
      "3      0.990254\n",
      "4      1.011324\n",
      "         ...   \n",
      "702    0.984410\n",
      "703    0.998193\n",
      "704    1.019919\n",
      "706    0.997524\n",
      "708    0.995803\n",
      "Name: longitude, Length: 616, dtype: float64\n",
      "0      0.998969\n",
      "1      0.998975\n",
      "2      1.000816\n",
      "3      0.998810\n",
      "4      0.999825\n",
      "         ...   \n",
      "702    1.002044\n",
      "703    0.999856\n",
      "704    1.000932\n",
      "706    0.999774\n",
      "708    0.999862\n",
      "Name: latitude, Length: 616, dtype: float64\n"
     ]
    }
   ],
   "source": [
    "# Convert host longitute to a numerical value\n",
    "host_long = listings['longitude']\n",
    "# Divide each value by the average longitude\n",
    "host_long = listings['longitude']/listings['longitude'].mean()\n",
    "print(host_long)\n",
    "# Convert host longitute to a numerical value\n",
    "host_lat = listings['latitude']\n",
    "# Divide each value by the average latitude\n",
    "host_lat = listings['latitude']/listings['latitude'].mean()\n",
    "print(host_lat)"
   ]
  },
  {
   "cell_type": "code",
   "execution_count": 11,
   "metadata": {},
   "outputs": [
    {
     "name": "stdout",
     "output_type": "stream",
     "text": [
      "0      0.784214\n",
      "1      0.784214\n",
      "2      1.176321\n",
      "3      0.784214\n",
      "4      1.960535\n",
      "         ...   \n",
      "702    0.392107\n",
      "703    1.176321\n",
      "704    4.313176\n",
      "706    0.392107\n",
      "708    0.392107\n",
      "Name: host_listings_count, Length: 616, dtype: float64\n"
     ]
    }
   ],
   "source": [
    "#Listings count\n",
    "# Convert host_listings_count to a numerical value\n",
    "listings_count = listings['host_listings_count'].astype(float)\n",
    "# Divide each value by the average listings count\n",
    "listings_count = listings['host_listings_count']/listings['host_listings_count'].mean()\n",
    "print(listings_count)"
   ]
  },
  {
   "cell_type": "code",
   "execution_count": 12,
   "metadata": {},
   "outputs": [
    {
     "name": "stdout",
     "output_type": "stream",
     "text": [
      "0      0.909076\n",
      "1      0.909076\n",
      "2      0.909076\n",
      "3      0.909076\n",
      "4      0.909076\n",
      "         ...   \n",
      "702    0.909076\n",
      "703    0.909076\n",
      "704    0.909076\n",
      "706    0.909076\n",
      "708    0.909076\n",
      "Name: host_verifications, Length: 616, dtype: float64\n"
     ]
    }
   ],
   "source": [
    "#Print both\n",
    "# Convert host_verifications to a numerical value which is the amount of verifications\n",
    "verifications = listings['host_verifications'].str.len()\n",
    "# Divide each value by the average number of verifications\n",
    "verifications = verifications/verifications.mean()\n",
    "print(verifications)"
   ]
  },
  {
   "cell_type": "code",
   "execution_count": 13,
   "metadata": {},
   "outputs": [
    {
     "name": "stdout",
     "output_type": "stream",
     "text": [
      "0      1\n",
      "1      1\n",
      "2      1\n",
      "3      1\n",
      "4      1\n",
      "      ..\n",
      "702    1\n",
      "703    1\n",
      "704    1\n",
      "706    1\n",
      "708    1\n",
      "Name: host_has_profile_pic, Length: 616, dtype: int64\n"
     ]
    }
   ],
   "source": [
    "# Profile pic\n",
    "# Convert host_has_profile_pic to a numerical value\n",
    "profice_picture = listings['host_has_profile_pic'].map({'t': 1, 'f': 0})\n",
    "print(profice_picture)"
   ]
  },
  {
   "cell_type": "code",
   "execution_count": 14,
   "metadata": {},
   "outputs": [
    {
     "name": "stdout",
     "output_type": "stream",
     "text": [
      "0      1\n",
      "1      1\n",
      "2      1\n",
      "3      1\n",
      "4      1\n",
      "      ..\n",
      "702    1\n",
      "703    1\n",
      "704    1\n",
      "706    1\n",
      "708    1\n",
      "Name: host_identity_verified, Length: 616, dtype: int64\n"
     ]
    }
   ],
   "source": [
    "# Identity verified\n",
    "# Convert host_identity_verified to a numerical value\n",
    "identity_verified = listings['host_identity_verified'].map({'t': 1, 'f': 0})\n",
    "print(identity_verified)"
   ]
  },
  {
   "cell_type": "code",
   "execution_count": 15,
   "metadata": {},
   "outputs": [
    {
     "name": "stdout",
     "output_type": "stream",
     "text": [
      "0      0.0\n",
      "1      0.0\n",
      "2      1.0\n",
      "3      0.0\n",
      "4      1.0\n",
      "      ... \n",
      "702    0.0\n",
      "703    1.0\n",
      "704    0.0\n",
      "706    1.0\n",
      "708    1.0\n",
      "Name: neighbourhood_cleansed, Length: 616, dtype: float64\n"
     ]
    }
   ],
   "source": [
    "# Split neighbourhood_cleansed into Dublin city as 1 and 0 if not\n",
    "neighbourhood_area = listings['neighbourhood_cleansed'].map({'Dublin City': 1})\n",
    "# Set NaNs to 0\n",
    "neighbourhood_area = neighbourhood_area.fillna(0)\n",
    "print(neighbourhood_area)"
   ]
  },
  {
   "cell_type": "code",
   "execution_count": 16,
   "metadata": {},
   "outputs": [
    {
     "name": "stdout",
     "output_type": "stream",
     "text": [
      "0      0.623482\n",
      "1      0.623482\n",
      "2      0.311741\n",
      "3      1.870445\n",
      "4      1.558704\n",
      "         ...   \n",
      "702    0.935223\n",
      "703    2.493927\n",
      "704    0.311741\n",
      "706    2.182186\n",
      "708    0.623482\n",
      "Name: accommodates, Length: 616, dtype: float64\n",
      "0      1.008251\n",
      "1      0.504125\n",
      "2      0.504125\n",
      "3      2.016502\n",
      "4      1.512376\n",
      "         ...   \n",
      "702    1.008251\n",
      "703    1.512376\n",
      "704    0.504125\n",
      "706    2.016502\n",
      "708    0.504125\n",
      "Name: beds, Length: 616, dtype: float64\n",
      "0      0.618380\n",
      "1      1.236759\n",
      "2      0.618380\n",
      "3      0.927569\n",
      "4      1.030633\n",
      "         ...   \n",
      "702    0.927569\n",
      "703    1.649012\n",
      "704    0.618380\n",
      "706    1.082164\n",
      "708    1.236759\n",
      "Length: 616, dtype: float64\n",
      "0      0.61687\n",
      "1      0.61687\n",
      "2      0.61687\n",
      "3      1.23374\n",
      "4      0.61687\n",
      "        ...   \n",
      "702    1.23374\n",
      "703    1.85061\n",
      "704    0.61687\n",
      "706    2.46748\n",
      "708    0.61687\n",
      "Name: bedrooms, Length: 616, dtype: float64\n"
     ]
    }
   ],
   "source": [
    "# Accommodates\n",
    "# Convert accommodates to a numerical value\n",
    "acc = listings['accommodates'].astype(float)\n",
    "# Divide each value by the average number of accommodates\n",
    "acc = listings['accommodates']/listings['accommodates'].mean()\n",
    "print(acc)\n",
    "\n",
    "# beds\n",
    "# Convert beds to a numerical value\n",
    "beds = listings['beds'].astype(float)\n",
    "# Divide each value by the average number of beds\n",
    "beds = listings['beds']/listings['beds'].mean()\n",
    "print(beds)\n",
    "\n",
    "# Accomodates to beds ratio\n",
    "acc_bed_ratito = acc/beds\n",
    "print(acc_bed_ratito)\n",
    "\n",
    "# Bedrooms\n",
    "# Convert bedrooms to a numerical value\n",
    "bedrooms = listings['bedrooms'].astype(float)\n",
    "# Divide each value by the average number of bedrooms\n",
    "bedrooms = listings['bedrooms']/listings['bedrooms'].mean()\n",
    "print(bedrooms)"
   ]
  },
  {
   "cell_type": "code",
   "execution_count": 17,
   "metadata": {},
   "outputs": [
    {
     "name": "stdout",
     "output_type": "stream",
     "text": [
      "0      0.418668\n",
      "1      0.418668\n",
      "2      0.279112\n",
      "3      0.139556\n",
      "4      0.418668\n",
      "         ...   \n",
      "702    0.697780\n",
      "703    2.093339\n",
      "704    0.139556\n",
      "706    0.279112\n",
      "708    0.279112\n",
      "Name: minimum_nights, Length: 616, dtype: float64\n"
     ]
    }
   ],
   "source": [
    "# Minimum nights\n",
    "# Convert minimum_nights to a numerical value\n",
    "min_nights = listings['minimum_nights'].astype(float)\n",
    "# Divide each value by the average number of minimum nights\n",
    "min_nights = listings['minimum_nights']/listings['minimum_nights'].mean()\n",
    "print(min_nights)\n"
   ]
  },
  {
   "cell_type": "code",
   "execution_count": 18,
   "metadata": {},
   "outputs": [
    {
     "name": "stdout",
     "output_type": "stream",
     "text": [
      "0      1.771192\n",
      "1      1.873376\n",
      "2      4.938900\n",
      "3      1.260271\n",
      "4      0.527951\n",
      "         ...   \n",
      "702    0.000000\n",
      "703    0.000000\n",
      "704    0.000000\n",
      "706    0.000000\n",
      "708    2.929278\n",
      "Name: availability_365, Length: 616, dtype: float64\n"
     ]
    }
   ],
   "source": [
    "# Convert availability_365 to a numerical value\n",
    "availability = listings['availability_365'].astype(float)\n",
    "# divide each value by the average availability\n",
    "availability = availability/availability.mean()\n",
    "print(availability)"
   ]
  },
  {
   "cell_type": "code",
   "execution_count": 19,
   "metadata": {},
   "outputs": [
    {
     "name": "stdout",
     "output_type": "stream",
     "text": [
      "0      3.067102\n",
      "1      2.496478\n",
      "2      4.220237\n",
      "3      3.875485\n",
      "4      0.760831\n",
      "         ...   \n",
      "702    0.249648\n",
      "703    1.735647\n",
      "704    3.185981\n",
      "706    0.225872\n",
      "708    2.092286\n",
      "Name: number_of_reviews, Length: 616, dtype: float64\n"
     ]
    }
   ],
   "source": [
    "# Number of reviews\n",
    "# Convert number_of_reviews to a numerical value\n",
    "reviews_amount = listings['number_of_reviews'].astype(float)\n",
    "#Divide each value by the average number of reviews\n",
    "reviews_amount = reviews_amount/reviews_amount.mean()\n",
    "print(reviews_amount)"
   ]
  },
  {
   "cell_type": "code",
   "execution_count": 20,
   "metadata": {},
   "outputs": [
    {
     "name": "stdout",
     "output_type": "stream",
     "text": [
      "0      2.448155\n",
      "1      1.591826\n",
      "2      1.192556\n",
      "3      2.177597\n",
      "4      1.171542\n",
      "         ...   \n",
      "702    0.682962\n",
      "703    0.735497\n",
      "704    2.264281\n",
      "706    1.534037\n",
      "708    0.990295\n",
      "Name: amenities, Length: 616, dtype: float64\n"
     ]
    }
   ],
   "source": [
    "# Convert amenities to a numerical value which is the amount of amenities\n",
    "amenities = listings['amenities'].str.len()\n",
    "# Divide each value by the average number of amenities\n",
    "amenities = amenities/amenities.mean()\n",
    "print(amenities)"
   ]
  },
  {
   "cell_type": "code",
   "execution_count": 21,
   "metadata": {},
   "outputs": [
    {
     "name": "stdout",
     "output_type": "stream",
     "text": [
      "0      1.954080\n",
      "1      1.616077\n",
      "2      2.936402\n",
      "3      3.887035\n",
      "4      0.507005\n",
      "         ...   \n",
      "702    0.285190\n",
      "703    1.827329\n",
      "704    3.348343\n",
      "706    0.253502\n",
      "708    2.249833\n",
      "Name: reviews_per_month, Length: 616, dtype: float64\n"
     ]
    }
   ],
   "source": [
    "# Reviews per month\n",
    "# Convert reviews_per_month to a numerical value\n",
    "reviews_per_month = listings['reviews_per_month'].astype(float)\n",
    "# Divide each value by the average number of reviews per month\n",
    "reviews_per_month = reviews_per_month/reviews_per_month.mean()\n",
    "print(reviews_per_month)"
   ]
  },
  {
   "cell_type": "code",
   "execution_count": 22,
   "metadata": {},
   "outputs": [
    {
     "name": "stdout",
     "output_type": "stream",
     "text": [
      "(616, 60136)\n"
     ]
    }
   ],
   "source": [
    "# Linear Regression model to predict review_scores_rating\n",
    "\n",
    "from sklearn.linear_model import LinearRegression\n",
    "from sklearn.model_selection import train_test_split\n",
    "from sklearn.metrics import mean_squared_error\n",
    "\n",
    "# Create a list of features\n",
    "features = [reviews_amount, host_since, response_time, response_rate, superhost, host_long, host_lat, listings_count, verifications, profice_picture, identity_verified, neighbourhood_area, acc, beds, acc_bed_ratito, bedrooms, min_nights, availability, amenities, reviews_per_month, tfidf_matrix.toarray(), tfidf_matrix1.toarray(), tfidf_matrix2.toarray() ]\n",
    "# Column stack the features\n",
    "features = np.column_stack(features)\n",
    "# Get the rating for each of the IDs\n",
    "# Get the shape of the features\n",
    "print(features.shape)\n",
    "# If features has Nan values, replace them with 0\n",
    "features = np.nan_to_num(features)"
   ]
  },
  {
   "cell_type": "code",
   "execution_count": 23,
   "metadata": {},
   "outputs": [
    {
     "data": {
      "image/png": "[encoded data removed]",
      "text/plain": [
       "<Figure size 640x480 with 1 Axes>"
      ]
     },
     "metadata": {},
     "output_type": "display_data"
    },
    {
     "name": "stdout",
     "output_type": "stream",
     "text": [
      "(616,)\n",
      "2221.723506644286\n"
     ]
    }
   ],
   "source": [
    "# Read listings data\n",
    "listings = pd.read_csv('listings.csv')\n",
    "# Get the rating for each of the IDs\n",
    "# Get the data for the listings that have reviews\n",
    "rating_test = 'review_scores_value'\n",
    "listings = listings[listings['id'].isin(listing_ids)]\n",
    "rating = listings[rating_test]\n",
    "#Replace Nan values with 0\n",
    "rating = rating.fillna(0)\n",
    "# Print a diagram of the rating to check if it is skewed\n",
    "plt.hist(rating, bins=20)\n",
    "# Label the axes\n",
    "plt.title('Rating Before Raising to the Power of 5')\n",
    "plt.xlabel('Rating')\n",
    "plt.ylabel('Frequency')\n",
    "plt.show()\n",
    "# Get the shape of the rating\n",
    "print(rating.shape)\n",
    "# Cube all the values in the rating\n",
    "rating = rating**5\n",
    "print(rating.mean())\n"
   ]
  },
  {
   "cell_type": "code",
   "execution_count": 24,
   "metadata": {},
   "outputs": [
    {
     "data": {
      "image/png": "[encoded data removed]",
      "text/plain": [
       "<Figure size 640x480 with 1 Axes>"
      ]
     },
     "metadata": {},
     "output_type": "display_data"
    }
   ],
   "source": [
    "# Print a diagram of the rating to check if it is skewed\n",
    "plt.hist(rating, bins=20)\n",
    "# Label the axes\n",
    "plt.xlabel('Rating')\n",
    "plt.ylabel('Frequency')\n",
    "#Title\n",
    "plt.title('Rating After Raising to the Power of 5')\n",
    "plt.show()\n"
   ]
  },
  {
   "cell_type": "code",
   "execution_count": 25,
   "metadata": {},
   "outputs": [],
   "source": [
    "# Split the data into training and testing sets\n",
    "train_features, test_features, train_rating, test_rating = train_test_split(features, rating, test_size = 0.2, random_state = 1)\n"
   ]
  },
  {
   "cell_type": "code",
   "execution_count": 26,
   "metadata": {},
   "outputs": [
    {
     "name": "stdout",
     "output_type": "stream",
     "text": [
      "0.12330411008704688\n",
      "0.3511468497467219\n",
      "34.44009582950064\n"
     ]
    }
   ],
   "source": [
    "# Create a linear regression model\n",
    "model_logreg = LinearRegression()\n",
    "# Fit the model to the training data\n",
    "model_logreg.fit(train_features, train_rating)\n",
    "# Make predictions using the testing set\n",
    "predictions = model_logreg.predict(test_features)\n",
    "# Cube root the predictions\n",
    "predictions = predictions**(1/5)\n",
    "test_rating = test_rating**(1/5)\n",
    "# If prdiction is greater than 5, set it to 5\n",
    "predictions[predictions > 5] = 5\n",
    "# Calculate the mean squared error\n",
    "mse = mean_squared_error(test_rating, predictions)\n",
    "# Print the mean squared error\n",
    "print(mse)\n",
    "# Print the root mean squared error\n",
    "print(mse**(1/2))\n",
    "# Print the R^2 score\n",
    "val = model_logreg.score(test_features, test_rating)\n",
    "#Remember the sign of val\n",
    "sign = np.sign(val)\n",
    "# Absolute value of val\n",
    "val = abs(val)\n",
    "# Print the R^2 score\n",
    "print(val**(1/5))"
   ]
  },
  {
   "cell_type": "code",
   "execution_count": 27,
   "metadata": {},
   "outputs": [
    {
     "name": "stdout",
     "output_type": "stream",
     "text": [
      "0.650866173521714\n"
     ]
    }
   ],
   "source": [
    "# Create a baseline model which predicts the mean rating\n",
    "train_rating = train_rating**(1/5)\n",
    "baseline = np.full((len(test_rating), 1), train_rating.mean())\n",
    "# Calculate the mean squared error\n",
    "mse = mean_squared_error(test_rating, baseline)\n",
    "# Print the mean squared error\n",
    "print(mse**(1/5))"
   ]
  },
  {
   "cell_type": "code",
   "execution_count": 28,
   "metadata": {},
   "outputs": [
    {
     "data": {
      "image/png": "[encoded data removed]",
      "text/plain": [
       "<Figure size 640x480 with 1 Axes>"
      ]
     },
     "metadata": {},
     "output_type": "display_data"
    }
   ],
   "source": [
    "# Plot a histogram of the test rating and predictions\n",
    "plt.hist(test_rating, alpha = 0.5, label = 'test rating')\n",
    "plt.hist(predictions, alpha = 0.5, label = 'predictions')\n",
    "# Label the axes\n",
    "plt.xlabel('Rating')\n",
    "plt.ylabel('Frequency')\n",
    "# Set the title\n",
    "plt.title('Histogram of test rating and predictions')\n",
    "plt.legend(loc = 'upper right')\n",
    "plt.show()"
   ]
  },
  {
   "cell_type": "code",
   "execution_count": 30,
   "metadata": {},
   "outputs": [
    {
     "data": {
      "image/png": "[encoded data removed]",
      "text/plain": [
       "<Figure size 640x480 with 1 Axes>"
      ]
     },
     "metadata": {},
     "output_type": "display_data"
    }
   ],
   "source": [
    "# Read listings data\n",
    "listings = pd.read_csv('listings.csv')\n",
    "# Get the rating for each of the IDs\n",
    "# Get the data for the listings that have reviews\n",
    "listings = listings[listings['id'].isin(listing_ids)]\n",
    "rating = listings[rating_test]\n",
    "# Replace NaN values with the mean\n",
    "rating = rating.fillna(rating.mean())\n",
    "\n",
    "# Get the mean of the ratings\n",
    "mean_rating = np.mean(rating)\n",
    "\n",
    "# Assign the rating to 0 if it is less than the mean rating and 1 if it is greater than the mean rating\n",
    "rating = np.where(rating < mean_rating, 0, 1)\n",
    "\n",
    "# Train a SVM model to predict the rating\n",
    "from sklearn.svm import SVC\n",
    "from sklearn.metrics import accuracy_score\n",
    "import warnings\n",
    "warnings.filterwarnings(\"ignore\")\n",
    "\n",
    "# Split the data into training and testing sets\n",
    "train_features, test_features, train_rating, test_rating = train_test_split(features, rating, test_size = 0.2, random_state = 1)\n",
    "\n",
    "# Tune the value of C to get the best accuracy and f1 score using cross validation\n",
    "from sklearn.metrics import f1_score\n",
    "\n",
    "# Create a list of values for C\n",
    "C = [0.001, 0.01, 0.1, 1, 10, 100, 1000]\n",
    "\n",
    "mean_score = []\n",
    "mean_std = []\n",
    "f1_score = []\n",
    "f1_std = []\n",
    "\n",
    "from sklearn.svm import LinearSVC\n",
    "for i in C:\n",
    "    svm = LinearSVC(penalty='l2', C=i, max_iter = 10000)\n",
    "    from sklearn.model_selection import cross_val_score\n",
    "    scores = cross_val_score(svm, features, np.ravel(rating), cv=5)\n",
    "    f1 = cross_val_score(svm, features, np.ravel(rating), cv=5, scoring='f1')\n",
    "    mean_score.append(scores.mean())\n",
    "    mean_std.append(scores.std())\n",
    "    f1_score.append(f1.mean())\n",
    "    f1_std.append(f1.std())\n",
    "\n",
    "\n",
    "C_range_text = [\"0.001\", \"0.01\", \"0.1\", \"1\", \"10\", \"100\", \"1000\"]\n",
    "import matplotlib.pyplot as plt\n",
    "fig = plt.figure()\n",
    "ax = fig.subplots(1,1)\n",
    "ax.plot(C_range_text, mean_score, label='Accuracy')\n",
    "ax.plot(C_range_text, f1_score, label='F1 score')\n",
    "ax.errorbar(C_range_text, mean_score, yerr=mean_std, fmt='o', label='Accuracy std')\n",
    "ax.errorbar(C_range_text, f1_score, yerr=f1_std, fmt='o', label='F1 score std')\n",
    "ax.set_xlabel('L2 Penalty')\n",
    "ax.set_ylabel('Score')\n",
    "ax.set_title('Altering SVM L2 Penalty')\n",
    "plt.legend()\n",
    "plt.show()\n"
   ]
  },
  {
   "cell_type": "code",
   "execution_count": 31,
   "metadata": {},
   "outputs": [
    {
     "name": "stdout",
     "output_type": "stream",
     "text": [
      "0.670456333595594\n"
     ]
    }
   ],
   "source": [
    "# Determine the max accuracy and f1 score\n",
    "max_accuracy = max(mean_score)\n",
    "print(max_accuracy)"
   ]
  },
  {
   "cell_type": "code",
   "execution_count": 32,
   "metadata": {},
   "outputs": [
    {
     "name": "stdout",
     "output_type": "stream",
     "text": [
      "0.7016129032258065\n",
      "[[11 25]\n",
      " [12 76]]\n",
      "0.3728813559322034\n"
     ]
    }
   ],
   "source": [
    "# Read listings data\n",
    "listings = pd.read_csv('listings.csv')\n",
    "# Get the rating for each of the IDs\n",
    "# Get the data for the listings that have reviews\n",
    "listings = listings[listings['id'].isin(listing_ids)]\n",
    "rating = listings[rating_test]\n",
    "# Replace NaN values with the mean\n",
    "rating = rating.fillna(rating.mean())\n",
    "# Assign the rating to 0 if it is less than the mean rating and 1 if it is greater than the mean rating\n",
    "rating = np.where(rating < mean_rating, 0, 1)\n",
    "\n",
    "train_features, test_features, train_rating, test_rating = train_test_split(features, rating, test_size = 0.2, random_state = 1)\n",
    "\n",
    "# Create a SVM model with the best C value\n",
    "model = LinearSVC(penalty='l2', C=0.1, max_iter = 10000)\n",
    "# Fit the model to the training data\n",
    "model.fit(train_features, train_rating)\n",
    "# Make predictions using the testing set\n",
    "predictions = model.predict(test_features)\n",
    "# Calculate the accuracy\n",
    "accuracy = accuracy_score(test_rating, predictions)\n",
    "# Print the accuracy\n",
    "print(accuracy)\n",
    "# Calculate the f1 score based on the confusion matrix\n",
    "from sklearn.metrics import confusion_matrix\n",
    "confusion_matrix = confusion_matrix(test_rating, predictions)\n",
    "print(confusion_matrix)\n",
    "# Calculate the f1 score\n",
    "f1 = 2*confusion_matrix[0][0]/(2*confusion_matrix[0][0] + confusion_matrix[0][1] + confusion_matrix[1][0])\n",
    "# Print the f1 score\n",
    "print(f1)\n"
   ]
  },
  {
   "cell_type": "code",
   "execution_count": 33,
   "metadata": {},
   "outputs": [
    {
     "name": "stdout",
     "output_type": "stream",
     "text": [
      "-----------------SVM coefficients with corresponding labels -----------------\n",
      "-----------------SVM intercept (bias)-----------------\n",
      "[0.08050716]\n",
      "reviews_amount     -0.0354\n",
      "host_since     -0.3108\n",
      "response_time     0.0208\n",
      "response_rate     0.3968\n",
      "superhost     0.4255\n",
      "host_long     0.0688\n",
      "host_lat     0.0794\n",
      "listings_count     -0.0716\n",
      "verifications     0.167\n",
      "profice_picture     -0.0671\n",
      "identity_verified     -0.0547\n",
      "neighbourhood_area     -0.1615\n",
      "acc     -0.1239\n",
      "beds     -0.1964\n",
      "acc_bed_ratito     -0.1677\n",
      "bedrooms     0.2951\n",
      "min_nights     0.0101\n",
      "availability     0.0109\n",
      "amenities     0.0824\n",
      "reviews_per_month     0.1092\n",
      "-----------------SVM average coefficients for tfidf features-----------------\n",
      "0.0002209811413349607\n",
      "----------------- LOGREG coefficients with corresponding labels -----------------\n",
      "[-1. -1.  1. ... -1.  1. -1.]\n",
      "-----------------intercept (bias)-----------------\n",
      "2252.801289547597\n",
      "nan\n",
      "reviews_amount     nan\n",
      "nan\n",
      "host_since     nan\n",
      "1.5451873801205385\n",
      "response_time     1.5452\n",
      "2.9208897468809343\n",
      "response_rate     2.9209\n",
      "2.557871472454329\n",
      "superhost     2.5579\n",
      "2.796356516998898\n",
      "host_long     2.7964\n",
      "nan\n",
      "host_lat     nan\n",
      "nan\n",
      "listings_count     nan\n",
      "nan\n",
      "verifications     nan\n",
      "nan\n",
      "profice_picture     nan\n",
      "nan\n",
      "identity_verified     nan\n",
      "nan\n",
      "neighbourhood_area     nan\n",
      "nan\n",
      "acc     nan\n",
      "1.9501142248072416\n",
      "beds     1.9501\n",
      "nan\n",
      "acc_bed_ratito     nan\n",
      "nan\n",
      "bedrooms     nan\n",
      "1.4437050794129946\n",
      "min_nights     1.4437\n",
      "1.7343311632070657\n",
      "availability     1.7343\n",
      "2.722755510842591\n",
      "amenities     2.7228\n",
      "2.771970108701877\n",
      "reviews_per_month     2.772\n",
      "20\n"
     ]
    },
    {
     "data": {
      "image/png": "[encoded data removed]",
      "text/plain": [
       "<Figure size 640x480 with 1 Axes>"
      ]
     },
     "metadata": {},
     "output_type": "display_data"
    }
   ],
   "source": [
    "\n",
    "feature_labels = ['reviews_amount', 'host_since', 'response_time', 'response_rate', 'superhost', 'host_long', 'host_lat', 'listings_count', 'verifications', 'profice_picture', 'identity_verified', 'neighbourhood_area', 'acc', 'beds', 'acc_bed_ratito', 'bedrooms', 'min_nights', 'availability', 'amenities', 'reviews_per_month']\n",
    "print('-----------------SVM coefficients with corresponding labels -----------------')\n",
    "coeff_pred_svm = model.coef_\n",
    "# print(coeff_pred_svm)\n",
    "\n",
    "print('-----------------SVM intercept (bias)-----------------')\n",
    "print(model.intercept_)\n",
    "\n",
    "for i in range(len(feature_labels)):\n",
    "    print(feature_labels[i], '   ', round( model.coef_[0][i], 4))\n",
    "\n",
    "# Get the average model coefficients for the tfidf features\n",
    "avg_coeff = np.mean(model.coef_[0][len(feature_labels):], axis=0)\n",
    "print('-----------------SVM average coefficients for tfidf features-----------------')\n",
    "print(avg_coeff)\n",
    "print('----------------- LOGREG coefficients with corresponding labels -----------------')\n",
    "coeff_pred_logreg = model_logreg.coef_\n",
    "# Get a matrix of the signs of the coefficients\n",
    "signs = np.sign(coeff_pred_logreg)\n",
    "print(signs)\n",
    "# Get the absolute value of the coefficients\n",
    "coeff_pred_logreg = np.abs(coeff_pred_logreg)\n",
    "# Take the 5th root of the coefficients\n",
    "coeff_pred_logreg = coeff_pred_logreg**(1/5)\n",
    "# Multiply the coefficients by the signs\n",
    "coeff_pred_logreg = coeff_pred_logreg * signs\n",
    "# Divide by 4\n",
    "coeff_pred_logreg = coeff_pred_logreg / 6\n",
    "\n",
    "print('-----------------intercept (bias)-----------------')\n",
    "print(model_logreg.intercept_)\n",
    "\n",
    "for i in range(len(feature_labels)):\n",
    "    print(model_logreg.coef_[i]**(1/5))\n",
    "    print(feature_labels[i], '   ', round( model_logreg.coef_[i]**(1/5), 4))\n",
    "\n",
    "#-----------------View weigthing of coefficients ----------------\n",
    "import matplotlib.pyplot as plt\n",
    "fig = plt.figure()\n",
    "ax = fig.subplots(1,1)\n",
    "\n",
    "X_axis = np.arange(len(feature_labels))\n",
    "\n",
    "print(len(X_axis))\n",
    "\n",
    "plt.xticks(X_axis, feature_labels, rotation=90)\n",
    "ax.bar(X_axis + 0.2, coeff_pred_logreg[0:20], 0.4, label='Logistic Regression')\n",
    "ax.bar(X_axis - 0.2, coeff_pred_svm[0][0:20], 0.4, label='SVM')\n",
    "# Add single extra bar for the average tfidf coefficients\n",
    "ax.set_ylabel('Weighting')\n",
    "ax.legend()\n",
    "plt.tight_layout()\n",
    "plt.show()"
   ]
  }
 ],
 "metadata": {
  "kernelspec": {
   "display_name": "Python 3 (ipykernel)",
   "language": "python",
   "name": "python3"
  },
  "language_info": {
   "codemirror_mode": {
    "name": "ipython",
    "version": 3
   },
   "file_extension": ".py",
   "mimetype": "text/x-python",
   "name": "python",
   "nbconvert_exporter": "python",
   "pygments_lexer": "ipython3",
   "version": "3.9.12"
  },
  "vscode": {
   "interpreter": {
    "hash": "26de051ba29f2982a8de78e945f0abaf191376122a1563185a90213a26c5da77"
   }
  }
 },
 "nbformat": 4,
 "nbformat_minor": 2
}
